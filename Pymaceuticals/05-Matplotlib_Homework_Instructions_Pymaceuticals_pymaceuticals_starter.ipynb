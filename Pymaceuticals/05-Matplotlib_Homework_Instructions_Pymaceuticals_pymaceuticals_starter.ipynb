{
 "cells": [
  {
   "cell_type": "markdown",
   "metadata": {},
   "source": [
    "## Observations and Insights"
   ]
  },
  {
   "cell_type": "markdown",
   "metadata": {},
   "source": []
  },
  {
   "cell_type": "markdown",
   "metadata": {},
   "source": [
    "## Dependencies and starter code"
   ]
  },
  {
   "cell_type": "code",
   "execution_count": 1,
   "metadata": {},
   "outputs": [
    {
     "data": {
      "text/html": [
       "<div>\n",
       "<style scoped>\n",
       "    .dataframe tbody tr th:only-of-type {\n",
       "        vertical-align: middle;\n",
       "    }\n",
       "\n",
       "    .dataframe tbody tr th {\n",
       "        vertical-align: top;\n",
       "    }\n",
       "\n",
       "    .dataframe thead th {\n",
       "        text-align: right;\n",
       "    }\n",
       "</style>\n",
       "<table border=\"1\" class=\"dataframe\">\n",
       "  <thead>\n",
       "    <tr style=\"text-align: right;\">\n",
       "      <th></th>\n",
       "      <th>Mouse ID</th>\n",
       "      <th>Drug Regimen</th>\n",
       "      <th>Sex</th>\n",
       "      <th>Age_months</th>\n",
       "      <th>Weight (g)</th>\n",
       "      <th>Timepoint</th>\n",
       "      <th>Tumor Volume (mm3)</th>\n",
       "      <th>Metastatic Sites</th>\n",
       "    </tr>\n",
       "  </thead>\n",
       "  <tbody>\n",
       "    <tr>\n",
       "      <td>0</td>\n",
       "      <td>k403</td>\n",
       "      <td>Ramicane</td>\n",
       "      <td>Male</td>\n",
       "      <td>21</td>\n",
       "      <td>16</td>\n",
       "      <td>0</td>\n",
       "      <td>45.000000</td>\n",
       "      <td>0</td>\n",
       "    </tr>\n",
       "    <tr>\n",
       "      <td>1</td>\n",
       "      <td>k403</td>\n",
       "      <td>Ramicane</td>\n",
       "      <td>Male</td>\n",
       "      <td>21</td>\n",
       "      <td>16</td>\n",
       "      <td>5</td>\n",
       "      <td>38.825898</td>\n",
       "      <td>0</td>\n",
       "    </tr>\n",
       "    <tr>\n",
       "      <td>2</td>\n",
       "      <td>k403</td>\n",
       "      <td>Ramicane</td>\n",
       "      <td>Male</td>\n",
       "      <td>21</td>\n",
       "      <td>16</td>\n",
       "      <td>10</td>\n",
       "      <td>35.014271</td>\n",
       "      <td>1</td>\n",
       "    </tr>\n",
       "    <tr>\n",
       "      <td>3</td>\n",
       "      <td>k403</td>\n",
       "      <td>Ramicane</td>\n",
       "      <td>Male</td>\n",
       "      <td>21</td>\n",
       "      <td>16</td>\n",
       "      <td>15</td>\n",
       "      <td>34.223992</td>\n",
       "      <td>1</td>\n",
       "    </tr>\n",
       "    <tr>\n",
       "      <td>4</td>\n",
       "      <td>k403</td>\n",
       "      <td>Ramicane</td>\n",
       "      <td>Male</td>\n",
       "      <td>21</td>\n",
       "      <td>16</td>\n",
       "      <td>20</td>\n",
       "      <td>32.997729</td>\n",
       "      <td>1</td>\n",
       "    </tr>\n",
       "    <tr>\n",
       "      <td>...</td>\n",
       "      <td>...</td>\n",
       "      <td>...</td>\n",
       "      <td>...</td>\n",
       "      <td>...</td>\n",
       "      <td>...</td>\n",
       "      <td>...</td>\n",
       "      <td>...</td>\n",
       "      <td>...</td>\n",
       "    </tr>\n",
       "    <tr>\n",
       "      <td>1888</td>\n",
       "      <td>z969</td>\n",
       "      <td>Naftisol</td>\n",
       "      <td>Male</td>\n",
       "      <td>9</td>\n",
       "      <td>30</td>\n",
       "      <td>25</td>\n",
       "      <td>63.145652</td>\n",
       "      <td>2</td>\n",
       "    </tr>\n",
       "    <tr>\n",
       "      <td>1889</td>\n",
       "      <td>z969</td>\n",
       "      <td>Naftisol</td>\n",
       "      <td>Male</td>\n",
       "      <td>9</td>\n",
       "      <td>30</td>\n",
       "      <td>30</td>\n",
       "      <td>65.841013</td>\n",
       "      <td>3</td>\n",
       "    </tr>\n",
       "    <tr>\n",
       "      <td>1890</td>\n",
       "      <td>z969</td>\n",
       "      <td>Naftisol</td>\n",
       "      <td>Male</td>\n",
       "      <td>9</td>\n",
       "      <td>30</td>\n",
       "      <td>35</td>\n",
       "      <td>69.176246</td>\n",
       "      <td>4</td>\n",
       "    </tr>\n",
       "    <tr>\n",
       "      <td>1891</td>\n",
       "      <td>z969</td>\n",
       "      <td>Naftisol</td>\n",
       "      <td>Male</td>\n",
       "      <td>9</td>\n",
       "      <td>30</td>\n",
       "      <td>40</td>\n",
       "      <td>70.314904</td>\n",
       "      <td>4</td>\n",
       "    </tr>\n",
       "    <tr>\n",
       "      <td>1892</td>\n",
       "      <td>z969</td>\n",
       "      <td>Naftisol</td>\n",
       "      <td>Male</td>\n",
       "      <td>9</td>\n",
       "      <td>30</td>\n",
       "      <td>45</td>\n",
       "      <td>73.867845</td>\n",
       "      <td>4</td>\n",
       "    </tr>\n",
       "  </tbody>\n",
       "</table>\n",
       "<p>1893 rows × 8 columns</p>\n",
       "</div>"
      ],
      "text/plain": [
       "     Mouse ID Drug Regimen   Sex  Age_months  Weight (g)  Timepoint  \\\n",
       "0        k403     Ramicane  Male          21          16          0   \n",
       "1        k403     Ramicane  Male          21          16          5   \n",
       "2        k403     Ramicane  Male          21          16         10   \n",
       "3        k403     Ramicane  Male          21          16         15   \n",
       "4        k403     Ramicane  Male          21          16         20   \n",
       "...       ...          ...   ...         ...         ...        ...   \n",
       "1888     z969     Naftisol  Male           9          30         25   \n",
       "1889     z969     Naftisol  Male           9          30         30   \n",
       "1890     z969     Naftisol  Male           9          30         35   \n",
       "1891     z969     Naftisol  Male           9          30         40   \n",
       "1892     z969     Naftisol  Male           9          30         45   \n",
       "\n",
       "      Tumor Volume (mm3)  Metastatic Sites  \n",
       "0              45.000000                 0  \n",
       "1              38.825898                 0  \n",
       "2              35.014271                 1  \n",
       "3              34.223992                 1  \n",
       "4              32.997729                 1  \n",
       "...                  ...               ...  \n",
       "1888           63.145652                 2  \n",
       "1889           65.841013                 3  \n",
       "1890           69.176246                 4  \n",
       "1891           70.314904                 4  \n",
       "1892           73.867845                 4  \n",
       "\n",
       "[1893 rows x 8 columns]"
      ]
     },
     "execution_count": 1,
     "metadata": {},
     "output_type": "execute_result"
    }
   ],
   "source": [
    "# Dependencies and Setup\n",
    "import matplotlib.pyplot as plt\n",
    "import pandas as pd\n",
    "import scipy.stats as st\n",
    "\n",
    "# Study data files\n",
    "mouse_metadata = \"../data/Mouse_metadata.csv\"\n",
    "study_results = \"../data/Study_results.csv\"\n",
    "\n",
    "# Read the mouse data and the study results\n",
    "mouse_metadata = pd.read_csv(mouse_metadata)\n",
    "study_results = pd.read_csv(study_results)\n",
    "\n",
    "# Combine the data into a single dataset\n",
    "merged_df= pd.merge(mouse_metadata, study_results, on=\"Mouse ID\")\n",
    "merged_df = merged_df.dropna()\n",
    "merged_df"
   ]
  },
  {
   "cell_type": "markdown",
   "metadata": {},
   "source": [
    "## Summary statistics"
   ]
  },
  {
   "cell_type": "code",
   "execution_count": 9,
   "metadata": {},
   "outputs": [
    {
     "data": {
      "text/html": [
       "<style  type=\"text/css\" >\n",
       "</style><table id=\"T_6a67d962_730e_11ea_b82e_2816a847eb28\" ><thead>    <tr>        <th class=\"blank level0\" ></th>        <th class=\"col_heading level0 col0\" >SEM</th>        <th class=\"col_heading level0 col1\" >Variance</th>        <th class=\"col_heading level0 col2\" >Mean</th>        <th class=\"col_heading level0 col3\" >Standard Deviation</th>    </tr>    <tr>        <th class=\"index_name level0\" >Drug Regimen</th>        <th class=\"blank\" ></th>        <th class=\"blank\" ></th>        <th class=\"blank\" ></th>        <th class=\"blank\" ></th>    </tr></thead><tbody>\n",
       "                <tr>\n",
       "                        <th id=\"T_6a67d962_730e_11ea_b82e_2816a847eb28level0_row0\" class=\"row_heading level0 row0\" >Capomulin</th>\n",
       "                        <td id=\"T_6a67d962_730e_11ea_b82e_2816a847eb28row0_col0\" class=\"data row0 col0\" >                0.33</td>\n",
       "                        <td id=\"T_6a67d962_730e_11ea_b82e_2816a847eb28row0_col1\" class=\"data row0 col1\" >                  25</td>\n",
       "                        <td id=\"T_6a67d962_730e_11ea_b82e_2816a847eb28row0_col2\" class=\"data row0 col2\" >               40.68</td>\n",
       "                        <td id=\"T_6a67d962_730e_11ea_b82e_2816a847eb28row0_col3\" class=\"data row0 col3\" >                4.99</td>\n",
       "            </tr>\n",
       "            <tr>\n",
       "                        <th id=\"T_6a67d962_730e_11ea_b82e_2816a847eb28level0_row1\" class=\"row_heading level0 row1\" >Ceftamin</th>\n",
       "                        <td id=\"T_6a67d962_730e_11ea_b82e_2816a847eb28row1_col0\" class=\"data row1 col0\" >                0.47</td>\n",
       "                        <td id=\"T_6a67d962_730e_11ea_b82e_2816a847eb28row1_col1\" class=\"data row1 col1\" >                  39</td>\n",
       "                        <td id=\"T_6a67d962_730e_11ea_b82e_2816a847eb28row1_col2\" class=\"data row1 col2\" >               52.59</td>\n",
       "                        <td id=\"T_6a67d962_730e_11ea_b82e_2816a847eb28row1_col3\" class=\"data row1 col3\" >                6.27</td>\n",
       "            </tr>\n",
       "            <tr>\n",
       "                        <th id=\"T_6a67d962_730e_11ea_b82e_2816a847eb28level0_row2\" class=\"row_heading level0 row2\" >Infubinol</th>\n",
       "                        <td id=\"T_6a67d962_730e_11ea_b82e_2816a847eb28row2_col0\" class=\"data row2 col0\" >                0.49</td>\n",
       "                        <td id=\"T_6a67d962_730e_11ea_b82e_2816a847eb28row2_col1\" class=\"data row2 col1\" >                  43</td>\n",
       "                        <td id=\"T_6a67d962_730e_11ea_b82e_2816a847eb28row2_col2\" class=\"data row2 col2\" >               52.88</td>\n",
       "                        <td id=\"T_6a67d962_730e_11ea_b82e_2816a847eb28row2_col3\" class=\"data row2 col3\" >                6.57</td>\n",
       "            </tr>\n",
       "            <tr>\n",
       "                        <th id=\"T_6a67d962_730e_11ea_b82e_2816a847eb28level0_row3\" class=\"row_heading level0 row3\" >Ketapril</th>\n",
       "                        <td id=\"T_6a67d962_730e_11ea_b82e_2816a847eb28row3_col0\" class=\"data row3 col0\" >                0.60</td>\n",
       "                        <td id=\"T_6a67d962_730e_11ea_b82e_2816a847eb28row3_col1\" class=\"data row3 col1\" >                  69</td>\n",
       "                        <td id=\"T_6a67d962_730e_11ea_b82e_2816a847eb28row3_col2\" class=\"data row3 col2\" >               55.24</td>\n",
       "                        <td id=\"T_6a67d962_730e_11ea_b82e_2816a847eb28row3_col3\" class=\"data row3 col3\" >                8.28</td>\n",
       "            </tr>\n",
       "            <tr>\n",
       "                        <th id=\"T_6a67d962_730e_11ea_b82e_2816a847eb28level0_row4\" class=\"row_heading level0 row4\" >Naftisol</th>\n",
       "                        <td id=\"T_6a67d962_730e_11ea_b82e_2816a847eb28row4_col0\" class=\"data row4 col0\" >                0.60</td>\n",
       "                        <td id=\"T_6a67d962_730e_11ea_b82e_2816a847eb28row4_col1\" class=\"data row4 col1\" >                  66</td>\n",
       "                        <td id=\"T_6a67d962_730e_11ea_b82e_2816a847eb28row4_col2\" class=\"data row4 col2\" >               54.33</td>\n",
       "                        <td id=\"T_6a67d962_730e_11ea_b82e_2816a847eb28row4_col3\" class=\"data row4 col3\" >                8.13</td>\n",
       "            </tr>\n",
       "            <tr>\n",
       "                        <th id=\"T_6a67d962_730e_11ea_b82e_2816a847eb28level0_row5\" class=\"row_heading level0 row5\" >Placebo</th>\n",
       "                        <td id=\"T_6a67d962_730e_11ea_b82e_2816a847eb28row5_col0\" class=\"data row5 col0\" >                0.58</td>\n",
       "                        <td id=\"T_6a67d962_730e_11ea_b82e_2816a847eb28row5_col1\" class=\"data row5 col1\" >                  61</td>\n",
       "                        <td id=\"T_6a67d962_730e_11ea_b82e_2816a847eb28row5_col2\" class=\"data row5 col2\" >               54.03</td>\n",
       "                        <td id=\"T_6a67d962_730e_11ea_b82e_2816a847eb28row5_col3\" class=\"data row5 col3\" >                7.82</td>\n",
       "            </tr>\n",
       "            <tr>\n",
       "                        <th id=\"T_6a67d962_730e_11ea_b82e_2816a847eb28level0_row6\" class=\"row_heading level0 row6\" >Propriva</th>\n",
       "                        <td id=\"T_6a67d962_730e_11ea_b82e_2816a847eb28row6_col0\" class=\"data row6 col0\" >                0.51</td>\n",
       "                        <td id=\"T_6a67d962_730e_11ea_b82e_2816a847eb28row6_col1\" class=\"data row6 col1\" >                  42</td>\n",
       "                        <td id=\"T_6a67d962_730e_11ea_b82e_2816a847eb28row6_col2\" class=\"data row6 col2\" >               52.32</td>\n",
       "                        <td id=\"T_6a67d962_730e_11ea_b82e_2816a847eb28row6_col3\" class=\"data row6 col3\" >                6.51</td>\n",
       "            </tr>\n",
       "            <tr>\n",
       "                        <th id=\"T_6a67d962_730e_11ea_b82e_2816a847eb28level0_row7\" class=\"row_heading level0 row7\" >Ramicane</th>\n",
       "                        <td id=\"T_6a67d962_730e_11ea_b82e_2816a847eb28row7_col0\" class=\"data row7 col0\" >                0.32</td>\n",
       "                        <td id=\"T_6a67d962_730e_11ea_b82e_2816a847eb28row7_col1\" class=\"data row7 col1\" >                  23</td>\n",
       "                        <td id=\"T_6a67d962_730e_11ea_b82e_2816a847eb28row7_col2\" class=\"data row7 col2\" >               40.22</td>\n",
       "                        <td id=\"T_6a67d962_730e_11ea_b82e_2816a847eb28row7_col3\" class=\"data row7 col3\" >                4.85</td>\n",
       "            </tr>\n",
       "            <tr>\n",
       "                        <th id=\"T_6a67d962_730e_11ea_b82e_2816a847eb28level0_row8\" class=\"row_heading level0 row8\" >Stelasyn</th>\n",
       "                        <td id=\"T_6a67d962_730e_11ea_b82e_2816a847eb28row8_col0\" class=\"data row8 col0\" >                0.57</td>\n",
       "                        <td id=\"T_6a67d962_730e_11ea_b82e_2816a847eb28row8_col1\" class=\"data row8 col1\" >                  59</td>\n",
       "                        <td id=\"T_6a67d962_730e_11ea_b82e_2816a847eb28row8_col2\" class=\"data row8 col2\" >               54.23</td>\n",
       "                        <td id=\"T_6a67d962_730e_11ea_b82e_2816a847eb28row8_col3\" class=\"data row8 col3\" >                7.71</td>\n",
       "            </tr>\n",
       "            <tr>\n",
       "                        <th id=\"T_6a67d962_730e_11ea_b82e_2816a847eb28level0_row9\" class=\"row_heading level0 row9\" >Zoniferol</th>\n",
       "                        <td id=\"T_6a67d962_730e_11ea_b82e_2816a847eb28row9_col0\" class=\"data row9 col0\" >                0.52</td>\n",
       "                        <td id=\"T_6a67d962_730e_11ea_b82e_2816a847eb28row9_col1\" class=\"data row9 col1\" >                  49</td>\n",
       "                        <td id=\"T_6a67d962_730e_11ea_b82e_2816a847eb28row9_col2\" class=\"data row9 col2\" >               53.24</td>\n",
       "                        <td id=\"T_6a67d962_730e_11ea_b82e_2816a847eb28row9_col3\" class=\"data row9 col3\" >                6.97</td>\n",
       "            </tr>\n",
       "    </tbody></table>"
      ],
      "text/plain": [
       "<pandas.io.formats.style.Styler at 0x22c15b44788>"
      ]
     },
     "execution_count": 9,
     "metadata": {},
     "output_type": "execute_result"
    }
   ],
   "source": [
    "# Generate a summary statistics table of mean, median, variance, standard deviation, and SEM of the tumor volume for each regimen\n",
    "grouped_df_sem = merged_df.groupby([\"Drug Regimen\"]).sem()\n",
    "grouped_df_var = merged_df.groupby([\"Drug Regimen\"]).var()\n",
    "grouped_df_mean = merged_df.groupby([\"Drug Regimen\"]).mean()\n",
    "grouped_df_std = merged_df.groupby([\"Drug Regimen\"]).std()\n",
    "\n",
    "grouped_df_ss = grouped_df_ss.loc[:,['Tumor Volume (mm3)']]\n",
    "grouped_df_sem = grouped_df_sem.loc[:,['Tumor Volume (mm3)']]\n",
    "grouped_df_var = grouped_df_var.loc[:,['Tumor Volume (mm3)']]\n",
    "grouped_df_mean = grouped_df_mean.loc[:,['Tumor Volume (mm3)']]\n",
    "grouped_df_std = grouped_df_std.loc[:,['Tumor Volume (mm3)']]\n",
    "\n",
    "merged_varandsam= pd.merge(grouped_df_sem, grouped_df_var, on=\"Drug Regimen\")\n",
    "merged_varandsam = merged_varandsam.rename(columns={ \"Tumor Volume (mm3)_x\": \"SEM\", \"Tumor Volume (mm3)_y\" : \"Variance\"})\n",
    "merged_meanandstd= pd.merge(grouped_df_mean, grouped_df_std, on=\"Drug Regimen\")\n",
    "merged_meanandstd = merged_meanandstd.rename(columns={ \"Tumor Volume (mm3)_x\": \"Mean\", \"Tumor Volume (mm3)_y\" : \"Standard Deviation\"})\n",
    "\n",
    "merged_ss= pd.merge(merged_varandsam, merged_meanandstd, on=\"Drug Regimen\")\n",
    "\n",
    "merged_ss.style.format({\"SEM\": \"{:20,.2f}\", \"Variance\": \"{:20,.0f}\",\"Mean\": \"{:20,.2f}\",\"Standard Deviation\": \"{:20,.2f}\"})"
   ]
  },
  {
   "cell_type": "markdown",
   "metadata": {},
   "source": [
    "## Bar plots"
   ]
  },
  {
   "cell_type": "code",
   "execution_count": null,
   "metadata": {},
   "outputs": [],
   "source": [
    "# Generate a bar plot showing number of data points for each treatment regimen using pandas"
   ]
  },
  {
   "cell_type": "code",
   "execution_count": null,
   "metadata": {},
   "outputs": [],
   "source": [
    "# Generate a bar plot showing number of data points for each treatment regimen using pyplot"
   ]
  },
  {
   "cell_type": "markdown",
   "metadata": {},
   "source": [
    "## Pie plots"
   ]
  },
  {
   "cell_type": "code",
   "execution_count": null,
   "metadata": {},
   "outputs": [],
   "source": [
    "# Generate a pie plot showing the distribution of female versus male mice using pandas"
   ]
  },
  {
   "cell_type": "code",
   "execution_count": null,
   "metadata": {},
   "outputs": [],
   "source": [
    "# Generate a pie plot showing the distribution of female versus male mice using pyplot"
   ]
  },
  {
   "cell_type": "markdown",
   "metadata": {},
   "source": [
    "## Quartiles, outliers and boxplots"
   ]
  },
  {
   "cell_type": "code",
   "execution_count": null,
   "metadata": {},
   "outputs": [],
   "source": [
    "# Calculate the final tumor volume of each mouse across four of the most promising treatment regimens. Calculate the IQR and quantitatively determine if there are any potential outliers. "
   ]
  },
  {
   "cell_type": "code",
   "execution_count": null,
   "metadata": {},
   "outputs": [],
   "source": [
    "# Generate a box plot of the final tumor volume of each mouse across four regimens of interest"
   ]
  },
  {
   "cell_type": "markdown",
   "metadata": {},
   "source": [
    "## Line and scatter plots"
   ]
  },
  {
   "cell_type": "code",
   "execution_count": null,
   "metadata": {},
   "outputs": [],
   "source": [
    "# Generate a line plot of time point versus tumor volume for a mouse treated with Capomulin"
   ]
  },
  {
   "cell_type": "code",
   "execution_count": null,
   "metadata": {},
   "outputs": [],
   "source": [
    "# Generate a scatter plot of mouse weight versus average tumor volume for the Capomulin regimen"
   ]
  },
  {
   "cell_type": "code",
   "execution_count": null,
   "metadata": {},
   "outputs": [],
   "source": [
    "# Calculate the correlation coefficient and linear regression model for mouse weight and average tumor volume for the Capomulin regimen"
   ]
  },
  {
   "cell_type": "code",
   "execution_count": null,
   "metadata": {},
   "outputs": [],
   "source": []
  }
 ],
 "metadata": {
  "anaconda-cloud": {},
  "kernelspec": {
   "display_name": "Python 3",
   "language": "python",
   "name": "python3"
  },
  "language_info": {
   "codemirror_mode": {
    "name": "ipython",
    "version": 3
   },
   "file_extension": ".py",
   "mimetype": "text/x-python",
   "name": "python",
   "nbconvert_exporter": "python",
   "pygments_lexer": "ipython3",
   "version": "3.7.4"
  }
 },
 "nbformat": 4,
 "nbformat_minor": 4
}
